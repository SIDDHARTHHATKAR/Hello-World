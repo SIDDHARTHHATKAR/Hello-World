{
  "nbformat": 4,
  "nbformat_minor": 0,
  "metadata": {
    "colab": {
      "name": "cuda1.cu",
      "provenance": [],
      "collapsed_sections": [],
      "include_colab_link": true
    },
    "kernelspec": {
      "name": "python3",
      "display_name": "Python 3"
    },
    "accelerator": "GPU"
  },
  "cells": [
    {
      "cell_type": "markdown",
      "metadata": {
        "id": "view-in-github",
        "colab_type": "text"
      },
      "source": [
        "<a href=\"https://colab.research.google.com/github/SIDDHARTHHATKAR/Hello-World/blob/master/cuda1_cu.ipynb\" target=\"_parent\"><img src=\"https://colab.research.google.com/assets/colab-badge.svg\" alt=\"Open In Colab\"/></a>"
      ]
    },
    {
      "cell_type": "code",
      "metadata": {
        "id": "w_fCqhtV6HiW",
        "colab_type": "code",
        "colab": {
          "base_uri": "https://localhost:8080/",
          "height": 34
        },
        "outputId": "c76181f5-d609-4942-f6d1-b95bfac09788"
      },
      "source": [
        "%%cu\n",
        "#include<stdio.h>\n",
        "#include<cuda.h>\n",
        "# define s 1000\n",
        "\n",
        "__global__ void min(int *a,int *c)\n",
        "{\n",
        "int id=threadIdx.x;\n",
        "   *c=a[0];\n",
        "  if(a[id]<*c)\n",
        "    {\n",
        "      *c=a[id];\n",
        "    }\n",
        "}\n",
        "\n",
        "__global__ void max(int *a,int *d)\n",
        "{\n",
        "int id=threadIdx.x;\n",
        "   *d=a[0];\n",
        "  if(a[id]>*d)\n",
        "    {\n",
        "      *d=a[id];\n",
        "    }\n",
        "}\n",
        "\n",
        "int main()\n",
        "{\n",
        "int i,a[s],c,d;\n",
        "int *dev_a,*dev_c,*dev_d;\n",
        "cudaMalloc((void **) &dev_a, s*sizeof(int));\t\t\t\n",
        "cudaMalloc((void **) &dev_c, s*sizeof(int));\n",
        "cudaMalloc((void **) &dev_d, s*sizeof(int));\n",
        "\n",
        "for(i=0;i<s;i++)\n",
        "{\n",
        "a[i]=rand()%1000+1;\n",
        "\n",
        "}\n",
        "cudaMemcpy(dev_a,a,s*sizeof(int),cudaMemcpyHostToDevice);\n",
        " \n",
        "min<<<1,s>>>(dev_a,dev_c);\n",
        "max<<<1,s>>>(dev_a,dev_d);\n",
        "\n",
        "cudaMemcpy(&c, dev_c, s*sizeof(int),cudaMemcpyDeviceToHost);\n",
        "cudaMemcpy(&d, dev_d, s*sizeof(int),cudaMemcpyDeviceToHost);\n",
        "\n",
        "printf(\"min=%d\",c);\n",
        "printf(\"max=%d\",d);\n",
        "cudaFree(dev_a);\n",
        "cudaFree(dev_c);\n",
        "cudaFree(dev_d);\n",
        "printf(\" \");\n",
        "\n",
        "return 0;\n",
        "}\n",
        "\n",
        "/*\n",
        "OUTPUT\n",
        "cpllab00@cpllab:~$ nvcc minmax.cu\n",
        "cpllab00@cpllab:~$ ./a.out\n",
        "min=251 max=578 */\n"
      ],
      "execution_count": 25,
      "outputs": [
        {
          "output_type": "stream",
          "text": [
            "min=384max=851 \n"
          ],
          "name": "stdout"
        }
      ]
    }
  ]
}